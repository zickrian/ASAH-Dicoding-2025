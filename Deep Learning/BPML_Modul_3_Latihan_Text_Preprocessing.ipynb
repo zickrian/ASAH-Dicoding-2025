{
  "nbformat": 4,
  "nbformat_minor": 0,
  "metadata": {
    "colab": {
      "provenance": []
    },
    "kernelspec": {
      "name": "python3",
      "display_name": "Python 3"
    },
    "language_info": {
      "name": "python"
    },
    "widgets": {
      "application/vnd.jupyter.widget-state+json": {
        "c191920da6094f4cb928c13058245428": {
          "model_module": "@jupyter-widgets/controls",
          "model_name": "HBoxModel",
          "model_module_version": "1.5.0",
          "state": {
            "_dom_classes": [],
            "_model_module": "@jupyter-widgets/controls",
            "_model_module_version": "1.5.0",
            "_model_name": "HBoxModel",
            "_view_count": null,
            "_view_module": "@jupyter-widgets/controls",
            "_view_module_version": "1.5.0",
            "_view_name": "HBoxView",
            "box_style": "",
            "children": [
              "IPY_MODEL_d18c9444ad8f4a84921cf831727ce934",
              "IPY_MODEL_0003ee5167b343d8b176b92ab49b2956",
              "IPY_MODEL_e781767a33734e1395ef29ccc8b5ca3b"
            ],
            "layout": "IPY_MODEL_c9ff4b395e1649249225d0430e8e11f4"
          }
        },
        "d18c9444ad8f4a84921cf831727ce934": {
          "model_module": "@jupyter-widgets/controls",
          "model_name": "HTMLModel",
          "model_module_version": "1.5.0",
          "state": {
            "_dom_classes": [],
            "_model_module": "@jupyter-widgets/controls",
            "_model_module_version": "1.5.0",
            "_model_name": "HTMLModel",
            "_view_count": null,
            "_view_module": "@jupyter-widgets/controls",
            "_view_module_version": "1.5.0",
            "_view_name": "HTMLView",
            "description": "",
            "description_tooltip": null,
            "layout": "IPY_MODEL_57d73cc9d3494272a703877f94007d7f",
            "placeholder": "​",
            "style": "IPY_MODEL_81363c2160fa4f60b93caf758a795b10",
            "value": "tokenizer_config.json: 100%"
          }
        },
        "0003ee5167b343d8b176b92ab49b2956": {
          "model_module": "@jupyter-widgets/controls",
          "model_name": "FloatProgressModel",
          "model_module_version": "1.5.0",
          "state": {
            "_dom_classes": [],
            "_model_module": "@jupyter-widgets/controls",
            "_model_module_version": "1.5.0",
            "_model_name": "FloatProgressModel",
            "_view_count": null,
            "_view_module": "@jupyter-widgets/controls",
            "_view_module_version": "1.5.0",
            "_view_name": "ProgressView",
            "bar_style": "success",
            "description": "",
            "description_tooltip": null,
            "layout": "IPY_MODEL_3c177488a61f485895725a838b37ff48",
            "max": 48,
            "min": 0,
            "orientation": "horizontal",
            "style": "IPY_MODEL_33b1f6d38b9b45a6b1b8dac98d1a0f44",
            "value": 48
          }
        },
        "e781767a33734e1395ef29ccc8b5ca3b": {
          "model_module": "@jupyter-widgets/controls",
          "model_name": "HTMLModel",
          "model_module_version": "1.5.0",
          "state": {
            "_dom_classes": [],
            "_model_module": "@jupyter-widgets/controls",
            "_model_module_version": "1.5.0",
            "_model_name": "HTMLModel",
            "_view_count": null,
            "_view_module": "@jupyter-widgets/controls",
            "_view_module_version": "1.5.0",
            "_view_name": "HTMLView",
            "description": "",
            "description_tooltip": null,
            "layout": "IPY_MODEL_49ebbaa895c64669970d8fa16c85884c",
            "placeholder": "​",
            "style": "IPY_MODEL_a97dcedbfacc4cd8876ee4c05c2d5533",
            "value": " 48.0/48.0 [00:00&lt;00:00, 2.65kB/s]"
          }
        },
        "c9ff4b395e1649249225d0430e8e11f4": {
          "model_module": "@jupyter-widgets/base",
          "model_name": "LayoutModel",
          "model_module_version": "1.2.0",
          "state": {
            "_model_module": "@jupyter-widgets/base",
            "_model_module_version": "1.2.0",
            "_model_name": "LayoutModel",
            "_view_count": null,
            "_view_module": "@jupyter-widgets/base",
            "_view_module_version": "1.2.0",
            "_view_name": "LayoutView",
            "align_content": null,
            "align_items": null,
            "align_self": null,
            "border": null,
            "bottom": null,
            "display": null,
            "flex": null,
            "flex_flow": null,
            "grid_area": null,
            "grid_auto_columns": null,
            "grid_auto_flow": null,
            "grid_auto_rows": null,
            "grid_column": null,
            "grid_gap": null,
            "grid_row": null,
            "grid_template_areas": null,
            "grid_template_columns": null,
            "grid_template_rows": null,
            "height": null,
            "justify_content": null,
            "justify_items": null,
            "left": null,
            "margin": null,
            "max_height": null,
            "max_width": null,
            "min_height": null,
            "min_width": null,
            "object_fit": null,
            "object_position": null,
            "order": null,
            "overflow": null,
            "overflow_x": null,
            "overflow_y": null,
            "padding": null,
            "right": null,
            "top": null,
            "visibility": null,
            "width": null
          }
        },
        "57d73cc9d3494272a703877f94007d7f": {
          "model_module": "@jupyter-widgets/base",
          "model_name": "LayoutModel",
          "model_module_version": "1.2.0",
          "state": {
            "_model_module": "@jupyter-widgets/base",
            "_model_module_version": "1.2.0",
            "_model_name": "LayoutModel",
            "_view_count": null,
            "_view_module": "@jupyter-widgets/base",
            "_view_module_version": "1.2.0",
            "_view_name": "LayoutView",
            "align_content": null,
            "align_items": null,
            "align_self": null,
            "border": null,
            "bottom": null,
            "display": null,
            "flex": null,
            "flex_flow": null,
            "grid_area": null,
            "grid_auto_columns": null,
            "grid_auto_flow": null,
            "grid_auto_rows": null,
            "grid_column": null,
            "grid_gap": null,
            "grid_row": null,
            "grid_template_areas": null,
            "grid_template_columns": null,
            "grid_template_rows": null,
            "height": null,
            "justify_content": null,
            "justify_items": null,
            "left": null,
            "margin": null,
            "max_height": null,
            "max_width": null,
            "min_height": null,
            "min_width": null,
            "object_fit": null,
            "object_position": null,
            "order": null,
            "overflow": null,
            "overflow_x": null,
            "overflow_y": null,
            "padding": null,
            "right": null,
            "top": null,
            "visibility": null,
            "width": null
          }
        },
        "81363c2160fa4f60b93caf758a795b10": {
          "model_module": "@jupyter-widgets/controls",
          "model_name": "DescriptionStyleModel",
          "model_module_version": "1.5.0",
          "state": {
            "_model_module": "@jupyter-widgets/controls",
            "_model_module_version": "1.5.0",
            "_model_name": "DescriptionStyleModel",
            "_view_count": null,
            "_view_module": "@jupyter-widgets/base",
            "_view_module_version": "1.2.0",
            "_view_name": "StyleView",
            "description_width": ""
          }
        },
        "3c177488a61f485895725a838b37ff48": {
          "model_module": "@jupyter-widgets/base",
          "model_name": "LayoutModel",
          "model_module_version": "1.2.0",
          "state": {
            "_model_module": "@jupyter-widgets/base",
            "_model_module_version": "1.2.0",
            "_model_name": "LayoutModel",
            "_view_count": null,
            "_view_module": "@jupyter-widgets/base",
            "_view_module_version": "1.2.0",
            "_view_name": "LayoutView",
            "align_content": null,
            "align_items": null,
            "align_self": null,
            "border": null,
            "bottom": null,
            "display": null,
            "flex": null,
            "flex_flow": null,
            "grid_area": null,
            "grid_auto_columns": null,
            "grid_auto_flow": null,
            "grid_auto_rows": null,
            "grid_column": null,
            "grid_gap": null,
            "grid_row": null,
            "grid_template_areas": null,
            "grid_template_columns": null,
            "grid_template_rows": null,
            "height": null,
            "justify_content": null,
            "justify_items": null,
            "left": null,
            "margin": null,
            "max_height": null,
            "max_width": null,
            "min_height": null,
            "min_width": null,
            "object_fit": null,
            "object_position": null,
            "order": null,
            "overflow": null,
            "overflow_x": null,
            "overflow_y": null,
            "padding": null,
            "right": null,
            "top": null,
            "visibility": null,
            "width": null
          }
        },
        "33b1f6d38b9b45a6b1b8dac98d1a0f44": {
          "model_module": "@jupyter-widgets/controls",
          "model_name": "ProgressStyleModel",
          "model_module_version": "1.5.0",
          "state": {
            "_model_module": "@jupyter-widgets/controls",
            "_model_module_version": "1.5.0",
            "_model_name": "ProgressStyleModel",
            "_view_count": null,
            "_view_module": "@jupyter-widgets/base",
            "_view_module_version": "1.2.0",
            "_view_name": "StyleView",
            "bar_color": null,
            "description_width": ""
          }
        },
        "49ebbaa895c64669970d8fa16c85884c": {
          "model_module": "@jupyter-widgets/base",
          "model_name": "LayoutModel",
          "model_module_version": "1.2.0",
          "state": {
            "_model_module": "@jupyter-widgets/base",
            "_model_module_version": "1.2.0",
            "_model_name": "LayoutModel",
            "_view_count": null,
            "_view_module": "@jupyter-widgets/base",
            "_view_module_version": "1.2.0",
            "_view_name": "LayoutView",
            "align_content": null,
            "align_items": null,
            "align_self": null,
            "border": null,
            "bottom": null,
            "display": null,
            "flex": null,
            "flex_flow": null,
            "grid_area": null,
            "grid_auto_columns": null,
            "grid_auto_flow": null,
            "grid_auto_rows": null,
            "grid_column": null,
            "grid_gap": null,
            "grid_row": null,
            "grid_template_areas": null,
            "grid_template_columns": null,
            "grid_template_rows": null,
            "height": null,
            "justify_content": null,
            "justify_items": null,
            "left": null,
            "margin": null,
            "max_height": null,
            "max_width": null,
            "min_height": null,
            "min_width": null,
            "object_fit": null,
            "object_position": null,
            "order": null,
            "overflow": null,
            "overflow_x": null,
            "overflow_y": null,
            "padding": null,
            "right": null,
            "top": null,
            "visibility": null,
            "width": null
          }
        },
        "a97dcedbfacc4cd8876ee4c05c2d5533": {
          "model_module": "@jupyter-widgets/controls",
          "model_name": "DescriptionStyleModel",
          "model_module_version": "1.5.0",
          "state": {
            "_model_module": "@jupyter-widgets/controls",
            "_model_module_version": "1.5.0",
            "_model_name": "DescriptionStyleModel",
            "_view_count": null,
            "_view_module": "@jupyter-widgets/base",
            "_view_module_version": "1.2.0",
            "_view_name": "StyleView",
            "description_width": ""
          }
        },
        "70d2ac3542c1444d8fec2cc97ca581fa": {
          "model_module": "@jupyter-widgets/controls",
          "model_name": "HBoxModel",
          "model_module_version": "1.5.0",
          "state": {
            "_dom_classes": [],
            "_model_module": "@jupyter-widgets/controls",
            "_model_module_version": "1.5.0",
            "_model_name": "HBoxModel",
            "_view_count": null,
            "_view_module": "@jupyter-widgets/controls",
            "_view_module_version": "1.5.0",
            "_view_name": "HBoxView",
            "box_style": "",
            "children": [
              "IPY_MODEL_b787523fd4094eeab36c26a0e4ec2ef2",
              "IPY_MODEL_efd46e2ec96843cfb5a5984ce3cbfe8b",
              "IPY_MODEL_de850c31e444490d88b10698ecc28ecd"
            ],
            "layout": "IPY_MODEL_570213eac6234a72a1bc69f24d4e10a0"
          }
        },
        "b787523fd4094eeab36c26a0e4ec2ef2": {
          "model_module": "@jupyter-widgets/controls",
          "model_name": "HTMLModel",
          "model_module_version": "1.5.0",
          "state": {
            "_dom_classes": [],
            "_model_module": "@jupyter-widgets/controls",
            "_model_module_version": "1.5.0",
            "_model_name": "HTMLModel",
            "_view_count": null,
            "_view_module": "@jupyter-widgets/controls",
            "_view_module_version": "1.5.0",
            "_view_name": "HTMLView",
            "description": "",
            "description_tooltip": null,
            "layout": "IPY_MODEL_54c2f1dd77924e229af338e40fda2f97",
            "placeholder": "​",
            "style": "IPY_MODEL_d8c50c92a74848969e6169d9768653f3",
            "value": "vocab.txt: 100%"
          }
        },
        "efd46e2ec96843cfb5a5984ce3cbfe8b": {
          "model_module": "@jupyter-widgets/controls",
          "model_name": "FloatProgressModel",
          "model_module_version": "1.5.0",
          "state": {
            "_dom_classes": [],
            "_model_module": "@jupyter-widgets/controls",
            "_model_module_version": "1.5.0",
            "_model_name": "FloatProgressModel",
            "_view_count": null,
            "_view_module": "@jupyter-widgets/controls",
            "_view_module_version": "1.5.0",
            "_view_name": "ProgressView",
            "bar_style": "success",
            "description": "",
            "description_tooltip": null,
            "layout": "IPY_MODEL_82283e430cc34000b8cbd06ac4391c91",
            "max": 231508,
            "min": 0,
            "orientation": "horizontal",
            "style": "IPY_MODEL_e91ceefd3da74d489b4f3090d2b7ba3d",
            "value": 231508
          }
        },
        "de850c31e444490d88b10698ecc28ecd": {
          "model_module": "@jupyter-widgets/controls",
          "model_name": "HTMLModel",
          "model_module_version": "1.5.0",
          "state": {
            "_dom_classes": [],
            "_model_module": "@jupyter-widgets/controls",
            "_model_module_version": "1.5.0",
            "_model_name": "HTMLModel",
            "_view_count": null,
            "_view_module": "@jupyter-widgets/controls",
            "_view_module_version": "1.5.0",
            "_view_name": "HTMLView",
            "description": "",
            "description_tooltip": null,
            "layout": "IPY_MODEL_a24428da6698456eb7b76f1a40e1aa5a",
            "placeholder": "​",
            "style": "IPY_MODEL_9ec4c66a08304c68883719f06ffb71e9",
            "value": " 232k/232k [00:00&lt;00:00, 1.42MB/s]"
          }
        },
        "570213eac6234a72a1bc69f24d4e10a0": {
          "model_module": "@jupyter-widgets/base",
          "model_name": "LayoutModel",
          "model_module_version": "1.2.0",
          "state": {
            "_model_module": "@jupyter-widgets/base",
            "_model_module_version": "1.2.0",
            "_model_name": "LayoutModel",
            "_view_count": null,
            "_view_module": "@jupyter-widgets/base",
            "_view_module_version": "1.2.0",
            "_view_name": "LayoutView",
            "align_content": null,
            "align_items": null,
            "align_self": null,
            "border": null,
            "bottom": null,
            "display": null,
            "flex": null,
            "flex_flow": null,
            "grid_area": null,
            "grid_auto_columns": null,
            "grid_auto_flow": null,
            "grid_auto_rows": null,
            "grid_column": null,
            "grid_gap": null,
            "grid_row": null,
            "grid_template_areas": null,
            "grid_template_columns": null,
            "grid_template_rows": null,
            "height": null,
            "justify_content": null,
            "justify_items": null,
            "left": null,
            "margin": null,
            "max_height": null,
            "max_width": null,
            "min_height": null,
            "min_width": null,
            "object_fit": null,
            "object_position": null,
            "order": null,
            "overflow": null,
            "overflow_x": null,
            "overflow_y": null,
            "padding": null,
            "right": null,
            "top": null,
            "visibility": null,
            "width": null
          }
        },
        "54c2f1dd77924e229af338e40fda2f97": {
          "model_module": "@jupyter-widgets/base",
          "model_name": "LayoutModel",
          "model_module_version": "1.2.0",
          "state": {
            "_model_module": "@jupyter-widgets/base",
            "_model_module_version": "1.2.0",
            "_model_name": "LayoutModel",
            "_view_count": null,
            "_view_module": "@jupyter-widgets/base",
            "_view_module_version": "1.2.0",
            "_view_name": "LayoutView",
            "align_content": null,
            "align_items": null,
            "align_self": null,
            "border": null,
            "bottom": null,
            "display": null,
            "flex": null,
            "flex_flow": null,
            "grid_area": null,
            "grid_auto_columns": null,
            "grid_auto_flow": null,
            "grid_auto_rows": null,
            "grid_column": null,
            "grid_gap": null,
            "grid_row": null,
            "grid_template_areas": null,
            "grid_template_columns": null,
            "grid_template_rows": null,
            "height": null,
            "justify_content": null,
            "justify_items": null,
            "left": null,
            "margin": null,
            "max_height": null,
            "max_width": null,
            "min_height": null,
            "min_width": null,
            "object_fit": null,
            "object_position": null,
            "order": null,
            "overflow": null,
            "overflow_x": null,
            "overflow_y": null,
            "padding": null,
            "right": null,
            "top": null,
            "visibility": null,
            "width": null
          }
        },
        "d8c50c92a74848969e6169d9768653f3": {
          "model_module": "@jupyter-widgets/controls",
          "model_name": "DescriptionStyleModel",
          "model_module_version": "1.5.0",
          "state": {
            "_model_module": "@jupyter-widgets/controls",
            "_model_module_version": "1.5.0",
            "_model_name": "DescriptionStyleModel",
            "_view_count": null,
            "_view_module": "@jupyter-widgets/base",
            "_view_module_version": "1.2.0",
            "_view_name": "StyleView",
            "description_width": ""
          }
        },
        "82283e430cc34000b8cbd06ac4391c91": {
          "model_module": "@jupyter-widgets/base",
          "model_name": "LayoutModel",
          "model_module_version": "1.2.0",
          "state": {
            "_model_module": "@jupyter-widgets/base",
            "_model_module_version": "1.2.0",
            "_model_name": "LayoutModel",
            "_view_count": null,
            "_view_module": "@jupyter-widgets/base",
            "_view_module_version": "1.2.0",
            "_view_name": "LayoutView",
            "align_content": null,
            "align_items": null,
            "align_self": null,
            "border": null,
            "bottom": null,
            "display": null,
            "flex": null,
            "flex_flow": null,
            "grid_area": null,
            "grid_auto_columns": null,
            "grid_auto_flow": null,
            "grid_auto_rows": null,
            "grid_column": null,
            "grid_gap": null,
            "grid_row": null,
            "grid_template_areas": null,
            "grid_template_columns": null,
            "grid_template_rows": null,
            "height": null,
            "justify_content": null,
            "justify_items": null,
            "left": null,
            "margin": null,
            "max_height": null,
            "max_width": null,
            "min_height": null,
            "min_width": null,
            "object_fit": null,
            "object_position": null,
            "order": null,
            "overflow": null,
            "overflow_x": null,
            "overflow_y": null,
            "padding": null,
            "right": null,
            "top": null,
            "visibility": null,
            "width": null
          }
        },
        "e91ceefd3da74d489b4f3090d2b7ba3d": {
          "model_module": "@jupyter-widgets/controls",
          "model_name": "ProgressStyleModel",
          "model_module_version": "1.5.0",
          "state": {
            "_model_module": "@jupyter-widgets/controls",
            "_model_module_version": "1.5.0",
            "_model_name": "ProgressStyleModel",
            "_view_count": null,
            "_view_module": "@jupyter-widgets/base",
            "_view_module_version": "1.2.0",
            "_view_name": "StyleView",
            "bar_color": null,
            "description_width": ""
          }
        },
        "a24428da6698456eb7b76f1a40e1aa5a": {
          "model_module": "@jupyter-widgets/base",
          "model_name": "LayoutModel",
          "model_module_version": "1.2.0",
          "state": {
            "_model_module": "@jupyter-widgets/base",
            "_model_module_version": "1.2.0",
            "_model_name": "LayoutModel",
            "_view_count": null,
            "_view_module": "@jupyter-widgets/base",
            "_view_module_version": "1.2.0",
            "_view_name": "LayoutView",
            "align_content": null,
            "align_items": null,
            "align_self": null,
            "border": null,
            "bottom": null,
            "display": null,
            "flex": null,
            "flex_flow": null,
            "grid_area": null,
            "grid_auto_columns": null,
            "grid_auto_flow": null,
            "grid_auto_rows": null,
            "grid_column": null,
            "grid_gap": null,
            "grid_row": null,
            "grid_template_areas": null,
            "grid_template_columns": null,
            "grid_template_rows": null,
            "height": null,
            "justify_content": null,
            "justify_items": null,
            "left": null,
            "margin": null,
            "max_height": null,
            "max_width": null,
            "min_height": null,
            "min_width": null,
            "object_fit": null,
            "object_position": null,
            "order": null,
            "overflow": null,
            "overflow_x": null,
            "overflow_y": null,
            "padding": null,
            "right": null,
            "top": null,
            "visibility": null,
            "width": null
          }
        },
        "9ec4c66a08304c68883719f06ffb71e9": {
          "model_module": "@jupyter-widgets/controls",
          "model_name": "DescriptionStyleModel",
          "model_module_version": "1.5.0",
          "state": {
            "_model_module": "@jupyter-widgets/controls",
            "_model_module_version": "1.5.0",
            "_model_name": "DescriptionStyleModel",
            "_view_count": null,
            "_view_module": "@jupyter-widgets/base",
            "_view_module_version": "1.2.0",
            "_view_name": "StyleView",
            "description_width": ""
          }
        },
        "60be0cfbd7094b7e9487ed47c3451cf2": {
          "model_module": "@jupyter-widgets/controls",
          "model_name": "HBoxModel",
          "model_module_version": "1.5.0",
          "state": {
            "_dom_classes": [],
            "_model_module": "@jupyter-widgets/controls",
            "_model_module_version": "1.5.0",
            "_model_name": "HBoxModel",
            "_view_count": null,
            "_view_module": "@jupyter-widgets/controls",
            "_view_module_version": "1.5.0",
            "_view_name": "HBoxView",
            "box_style": "",
            "children": [
              "IPY_MODEL_da02f51627d14f6c8a46cae7c97c452c",
              "IPY_MODEL_a3ad3d0c53a241248cd1b41931a46835",
              "IPY_MODEL_14f977fa752c4764903b93481d51d39b"
            ],
            "layout": "IPY_MODEL_2bbb7769961c49e0bfd5cf9a08d731a9"
          }
        },
        "da02f51627d14f6c8a46cae7c97c452c": {
          "model_module": "@jupyter-widgets/controls",
          "model_name": "HTMLModel",
          "model_module_version": "1.5.0",
          "state": {
            "_dom_classes": [],
            "_model_module": "@jupyter-widgets/controls",
            "_model_module_version": "1.5.0",
            "_model_name": "HTMLModel",
            "_view_count": null,
            "_view_module": "@jupyter-widgets/controls",
            "_view_module_version": "1.5.0",
            "_view_name": "HTMLView",
            "description": "",
            "description_tooltip": null,
            "layout": "IPY_MODEL_c337b4019cb5491d8d5ebd168d6740d1",
            "placeholder": "​",
            "style": "IPY_MODEL_232fd564ce8f4d9a9e7715c1df33565d",
            "value": "tokenizer.json: 100%"
          }
        },
        "a3ad3d0c53a241248cd1b41931a46835": {
          "model_module": "@jupyter-widgets/controls",
          "model_name": "FloatProgressModel",
          "model_module_version": "1.5.0",
          "state": {
            "_dom_classes": [],
            "_model_module": "@jupyter-widgets/controls",
            "_model_module_version": "1.5.0",
            "_model_name": "FloatProgressModel",
            "_view_count": null,
            "_view_module": "@jupyter-widgets/controls",
            "_view_module_version": "1.5.0",
            "_view_name": "ProgressView",
            "bar_style": "success",
            "description": "",
            "description_tooltip": null,
            "layout": "IPY_MODEL_9f8935303a834ff48b184ec1f3a3313e",
            "max": 466062,
            "min": 0,
            "orientation": "horizontal",
            "style": "IPY_MODEL_167036fff0e4461d808d704cf46a93e7",
            "value": 466062
          }
        },
        "14f977fa752c4764903b93481d51d39b": {
          "model_module": "@jupyter-widgets/controls",
          "model_name": "HTMLModel",
          "model_module_version": "1.5.0",
          "state": {
            "_dom_classes": [],
            "_model_module": "@jupyter-widgets/controls",
            "_model_module_version": "1.5.0",
            "_model_name": "HTMLModel",
            "_view_count": null,
            "_view_module": "@jupyter-widgets/controls",
            "_view_module_version": "1.5.0",
            "_view_name": "HTMLView",
            "description": "",
            "description_tooltip": null,
            "layout": "IPY_MODEL_9fea8815eea443d6a85a5cf8dbec9ca8",
            "placeholder": "​",
            "style": "IPY_MODEL_c81bfe90d25e45b4965aa17a888af04d",
            "value": " 466k/466k [00:00&lt;00:00, 2.81MB/s]"
          }
        },
        "2bbb7769961c49e0bfd5cf9a08d731a9": {
          "model_module": "@jupyter-widgets/base",
          "model_name": "LayoutModel",
          "model_module_version": "1.2.0",
          "state": {
            "_model_module": "@jupyter-widgets/base",
            "_model_module_version": "1.2.0",
            "_model_name": "LayoutModel",
            "_view_count": null,
            "_view_module": "@jupyter-widgets/base",
            "_view_module_version": "1.2.0",
            "_view_name": "LayoutView",
            "align_content": null,
            "align_items": null,
            "align_self": null,
            "border": null,
            "bottom": null,
            "display": null,
            "flex": null,
            "flex_flow": null,
            "grid_area": null,
            "grid_auto_columns": null,
            "grid_auto_flow": null,
            "grid_auto_rows": null,
            "grid_column": null,
            "grid_gap": null,
            "grid_row": null,
            "grid_template_areas": null,
            "grid_template_columns": null,
            "grid_template_rows": null,
            "height": null,
            "justify_content": null,
            "justify_items": null,
            "left": null,
            "margin": null,
            "max_height": null,
            "max_width": null,
            "min_height": null,
            "min_width": null,
            "object_fit": null,
            "object_position": null,
            "order": null,
            "overflow": null,
            "overflow_x": null,
            "overflow_y": null,
            "padding": null,
            "right": null,
            "top": null,
            "visibility": null,
            "width": null
          }
        },
        "c337b4019cb5491d8d5ebd168d6740d1": {
          "model_module": "@jupyter-widgets/base",
          "model_name": "LayoutModel",
          "model_module_version": "1.2.0",
          "state": {
            "_model_module": "@jupyter-widgets/base",
            "_model_module_version": "1.2.0",
            "_model_name": "LayoutModel",
            "_view_count": null,
            "_view_module": "@jupyter-widgets/base",
            "_view_module_version": "1.2.0",
            "_view_name": "LayoutView",
            "align_content": null,
            "align_items": null,
            "align_self": null,
            "border": null,
            "bottom": null,
            "display": null,
            "flex": null,
            "flex_flow": null,
            "grid_area": null,
            "grid_auto_columns": null,
            "grid_auto_flow": null,
            "grid_auto_rows": null,
            "grid_column": null,
            "grid_gap": null,
            "grid_row": null,
            "grid_template_areas": null,
            "grid_template_columns": null,
            "grid_template_rows": null,
            "height": null,
            "justify_content": null,
            "justify_items": null,
            "left": null,
            "margin": null,
            "max_height": null,
            "max_width": null,
            "min_height": null,
            "min_width": null,
            "object_fit": null,
            "object_position": null,
            "order": null,
            "overflow": null,
            "overflow_x": null,
            "overflow_y": null,
            "padding": null,
            "right": null,
            "top": null,
            "visibility": null,
            "width": null
          }
        },
        "232fd564ce8f4d9a9e7715c1df33565d": {
          "model_module": "@jupyter-widgets/controls",
          "model_name": "DescriptionStyleModel",
          "model_module_version": "1.5.0",
          "state": {
            "_model_module": "@jupyter-widgets/controls",
            "_model_module_version": "1.5.0",
            "_model_name": "DescriptionStyleModel",
            "_view_count": null,
            "_view_module": "@jupyter-widgets/base",
            "_view_module_version": "1.2.0",
            "_view_name": "StyleView",
            "description_width": ""
          }
        },
        "9f8935303a834ff48b184ec1f3a3313e": {
          "model_module": "@jupyter-widgets/base",
          "model_name": "LayoutModel",
          "model_module_version": "1.2.0",
          "state": {
            "_model_module": "@jupyter-widgets/base",
            "_model_module_version": "1.2.0",
            "_model_name": "LayoutModel",
            "_view_count": null,
            "_view_module": "@jupyter-widgets/base",
            "_view_module_version": "1.2.0",
            "_view_name": "LayoutView",
            "align_content": null,
            "align_items": null,
            "align_self": null,
            "border": null,
            "bottom": null,
            "display": null,
            "flex": null,
            "flex_flow": null,
            "grid_area": null,
            "grid_auto_columns": null,
            "grid_auto_flow": null,
            "grid_auto_rows": null,
            "grid_column": null,
            "grid_gap": null,
            "grid_row": null,
            "grid_template_areas": null,
            "grid_template_columns": null,
            "grid_template_rows": null,
            "height": null,
            "justify_content": null,
            "justify_items": null,
            "left": null,
            "margin": null,
            "max_height": null,
            "max_width": null,
            "min_height": null,
            "min_width": null,
            "object_fit": null,
            "object_position": null,
            "order": null,
            "overflow": null,
            "overflow_x": null,
            "overflow_y": null,
            "padding": null,
            "right": null,
            "top": null,
            "visibility": null,
            "width": null
          }
        },
        "167036fff0e4461d808d704cf46a93e7": {
          "model_module": "@jupyter-widgets/controls",
          "model_name": "ProgressStyleModel",
          "model_module_version": "1.5.0",
          "state": {
            "_model_module": "@jupyter-widgets/controls",
            "_model_module_version": "1.5.0",
            "_model_name": "ProgressStyleModel",
            "_view_count": null,
            "_view_module": "@jupyter-widgets/base",
            "_view_module_version": "1.2.0",
            "_view_name": "StyleView",
            "bar_color": null,
            "description_width": ""
          }
        },
        "9fea8815eea443d6a85a5cf8dbec9ca8": {
          "model_module": "@jupyter-widgets/base",
          "model_name": "LayoutModel",
          "model_module_version": "1.2.0",
          "state": {
            "_model_module": "@jupyter-widgets/base",
            "_model_module_version": "1.2.0",
            "_model_name": "LayoutModel",
            "_view_count": null,
            "_view_module": "@jupyter-widgets/base",
            "_view_module_version": "1.2.0",
            "_view_name": "LayoutView",
            "align_content": null,
            "align_items": null,
            "align_self": null,
            "border": null,
            "bottom": null,
            "display": null,
            "flex": null,
            "flex_flow": null,
            "grid_area": null,
            "grid_auto_columns": null,
            "grid_auto_flow": null,
            "grid_auto_rows": null,
            "grid_column": null,
            "grid_gap": null,
            "grid_row": null,
            "grid_template_areas": null,
            "grid_template_columns": null,
            "grid_template_rows": null,
            "height": null,
            "justify_content": null,
            "justify_items": null,
            "left": null,
            "margin": null,
            "max_height": null,
            "max_width": null,
            "min_height": null,
            "min_width": null,
            "object_fit": null,
            "object_position": null,
            "order": null,
            "overflow": null,
            "overflow_x": null,
            "overflow_y": null,
            "padding": null,
            "right": null,
            "top": null,
            "visibility": null,
            "width": null
          }
        },
        "c81bfe90d25e45b4965aa17a888af04d": {
          "model_module": "@jupyter-widgets/controls",
          "model_name": "DescriptionStyleModel",
          "model_module_version": "1.5.0",
          "state": {
            "_model_module": "@jupyter-widgets/controls",
            "_model_module_version": "1.5.0",
            "_model_name": "DescriptionStyleModel",
            "_view_count": null,
            "_view_module": "@jupyter-widgets/base",
            "_view_module_version": "1.2.0",
            "_view_name": "StyleView",
            "description_width": ""
          }
        },
        "5cc0d858f41b496c9b6f0af76861af7c": {
          "model_module": "@jupyter-widgets/controls",
          "model_name": "HBoxModel",
          "model_module_version": "1.5.0",
          "state": {
            "_dom_classes": [],
            "_model_module": "@jupyter-widgets/controls",
            "_model_module_version": "1.5.0",
            "_model_name": "HBoxModel",
            "_view_count": null,
            "_view_module": "@jupyter-widgets/controls",
            "_view_module_version": "1.5.0",
            "_view_name": "HBoxView",
            "box_style": "",
            "children": [
              "IPY_MODEL_99b6089d236049c689d637fff19fcd5e",
              "IPY_MODEL_b97091dcced548ac97e06f1452cd522f",
              "IPY_MODEL_f79e3c0410e4472183f3d36a1f45aaff"
            ],
            "layout": "IPY_MODEL_206baf31131142fcb1aa62a1d8f7384e"
          }
        },
        "99b6089d236049c689d637fff19fcd5e": {
          "model_module": "@jupyter-widgets/controls",
          "model_name": "HTMLModel",
          "model_module_version": "1.5.0",
          "state": {
            "_dom_classes": [],
            "_model_module": "@jupyter-widgets/controls",
            "_model_module_version": "1.5.0",
            "_model_name": "HTMLModel",
            "_view_count": null,
            "_view_module": "@jupyter-widgets/controls",
            "_view_module_version": "1.5.0",
            "_view_name": "HTMLView",
            "description": "",
            "description_tooltip": null,
            "layout": "IPY_MODEL_9ac95ce632444a67accd54b9569c23a2",
            "placeholder": "​",
            "style": "IPY_MODEL_57de92882c8843b2a875b9df68ec1513",
            "value": "config.json: 100%"
          }
        },
        "b97091dcced548ac97e06f1452cd522f": {
          "model_module": "@jupyter-widgets/controls",
          "model_name": "FloatProgressModel",
          "model_module_version": "1.5.0",
          "state": {
            "_dom_classes": [],
            "_model_module": "@jupyter-widgets/controls",
            "_model_module_version": "1.5.0",
            "_model_name": "FloatProgressModel",
            "_view_count": null,
            "_view_module": "@jupyter-widgets/controls",
            "_view_module_version": "1.5.0",
            "_view_name": "ProgressView",
            "bar_style": "success",
            "description": "",
            "description_tooltip": null,
            "layout": "IPY_MODEL_a896634e9e2047ff9d67385ac1dec87e",
            "max": 570,
            "min": 0,
            "orientation": "horizontal",
            "style": "IPY_MODEL_a8f5189a94844e82bdcca8a2ada600ec",
            "value": 570
          }
        },
        "f79e3c0410e4472183f3d36a1f45aaff": {
          "model_module": "@jupyter-widgets/controls",
          "model_name": "HTMLModel",
          "model_module_version": "1.5.0",
          "state": {
            "_dom_classes": [],
            "_model_module": "@jupyter-widgets/controls",
            "_model_module_version": "1.5.0",
            "_model_name": "HTMLModel",
            "_view_count": null,
            "_view_module": "@jupyter-widgets/controls",
            "_view_module_version": "1.5.0",
            "_view_name": "HTMLView",
            "description": "",
            "description_tooltip": null,
            "layout": "IPY_MODEL_101359f209b14d45aa711698963df927",
            "placeholder": "​",
            "style": "IPY_MODEL_c6ea8efa68254df49f1ff9d36324ea70",
            "value": " 570/570 [00:00&lt;00:00, 24.4kB/s]"
          }
        },
        "206baf31131142fcb1aa62a1d8f7384e": {
          "model_module": "@jupyter-widgets/base",
          "model_name": "LayoutModel",
          "model_module_version": "1.2.0",
          "state": {
            "_model_module": "@jupyter-widgets/base",
            "_model_module_version": "1.2.0",
            "_model_name": "LayoutModel",
            "_view_count": null,
            "_view_module": "@jupyter-widgets/base",
            "_view_module_version": "1.2.0",
            "_view_name": "LayoutView",
            "align_content": null,
            "align_items": null,
            "align_self": null,
            "border": null,
            "bottom": null,
            "display": null,
            "flex": null,
            "flex_flow": null,
            "grid_area": null,
            "grid_auto_columns": null,
            "grid_auto_flow": null,
            "grid_auto_rows": null,
            "grid_column": null,
            "grid_gap": null,
            "grid_row": null,
            "grid_template_areas": null,
            "grid_template_columns": null,
            "grid_template_rows": null,
            "height": null,
            "justify_content": null,
            "justify_items": null,
            "left": null,
            "margin": null,
            "max_height": null,
            "max_width": null,
            "min_height": null,
            "min_width": null,
            "object_fit": null,
            "object_position": null,
            "order": null,
            "overflow": null,
            "overflow_x": null,
            "overflow_y": null,
            "padding": null,
            "right": null,
            "top": null,
            "visibility": null,
            "width": null
          }
        },
        "9ac95ce632444a67accd54b9569c23a2": {
          "model_module": "@jupyter-widgets/base",
          "model_name": "LayoutModel",
          "model_module_version": "1.2.0",
          "state": {
            "_model_module": "@jupyter-widgets/base",
            "_model_module_version": "1.2.0",
            "_model_name": "LayoutModel",
            "_view_count": null,
            "_view_module": "@jupyter-widgets/base",
            "_view_module_version": "1.2.0",
            "_view_name": "LayoutView",
            "align_content": null,
            "align_items": null,
            "align_self": null,
            "border": null,
            "bottom": null,
            "display": null,
            "flex": null,
            "flex_flow": null,
            "grid_area": null,
            "grid_auto_columns": null,
            "grid_auto_flow": null,
            "grid_auto_rows": null,
            "grid_column": null,
            "grid_gap": null,
            "grid_row": null,
            "grid_template_areas": null,
            "grid_template_columns": null,
            "grid_template_rows": null,
            "height": null,
            "justify_content": null,
            "justify_items": null,
            "left": null,
            "margin": null,
            "max_height": null,
            "max_width": null,
            "min_height": null,
            "min_width": null,
            "object_fit": null,
            "object_position": null,
            "order": null,
            "overflow": null,
            "overflow_x": null,
            "overflow_y": null,
            "padding": null,
            "right": null,
            "top": null,
            "visibility": null,
            "width": null
          }
        },
        "57de92882c8843b2a875b9df68ec1513": {
          "model_module": "@jupyter-widgets/controls",
          "model_name": "DescriptionStyleModel",
          "model_module_version": "1.5.0",
          "state": {
            "_model_module": "@jupyter-widgets/controls",
            "_model_module_version": "1.5.0",
            "_model_name": "DescriptionStyleModel",
            "_view_count": null,
            "_view_module": "@jupyter-widgets/base",
            "_view_module_version": "1.2.0",
            "_view_name": "StyleView",
            "description_width": ""
          }
        },
        "a896634e9e2047ff9d67385ac1dec87e": {
          "model_module": "@jupyter-widgets/base",
          "model_name": "LayoutModel",
          "model_module_version": "1.2.0",
          "state": {
            "_model_module": "@jupyter-widgets/base",
            "_model_module_version": "1.2.0",
            "_model_name": "LayoutModel",
            "_view_count": null,
            "_view_module": "@jupyter-widgets/base",
            "_view_module_version": "1.2.0",
            "_view_name": "LayoutView",
            "align_content": null,
            "align_items": null,
            "align_self": null,
            "border": null,
            "bottom": null,
            "display": null,
            "flex": null,
            "flex_flow": null,
            "grid_area": null,
            "grid_auto_columns": null,
            "grid_auto_flow": null,
            "grid_auto_rows": null,
            "grid_column": null,
            "grid_gap": null,
            "grid_row": null,
            "grid_template_areas": null,
            "grid_template_columns": null,
            "grid_template_rows": null,
            "height": null,
            "justify_content": null,
            "justify_items": null,
            "left": null,
            "margin": null,
            "max_height": null,
            "max_width": null,
            "min_height": null,
            "min_width": null,
            "object_fit": null,
            "object_position": null,
            "order": null,
            "overflow": null,
            "overflow_x": null,
            "overflow_y": null,
            "padding": null,
            "right": null,
            "top": null,
            "visibility": null,
            "width": null
          }
        },
        "a8f5189a94844e82bdcca8a2ada600ec": {
          "model_module": "@jupyter-widgets/controls",
          "model_name": "ProgressStyleModel",
          "model_module_version": "1.5.0",
          "state": {
            "_model_module": "@jupyter-widgets/controls",
            "_model_module_version": "1.5.0",
            "_model_name": "ProgressStyleModel",
            "_view_count": null,
            "_view_module": "@jupyter-widgets/base",
            "_view_module_version": "1.2.0",
            "_view_name": "StyleView",
            "bar_color": null,
            "description_width": ""
          }
        },
        "101359f209b14d45aa711698963df927": {
          "model_module": "@jupyter-widgets/base",
          "model_name": "LayoutModel",
          "model_module_version": "1.2.0",
          "state": {
            "_model_module": "@jupyter-widgets/base",
            "_model_module_version": "1.2.0",
            "_model_name": "LayoutModel",
            "_view_count": null,
            "_view_module": "@jupyter-widgets/base",
            "_view_module_version": "1.2.0",
            "_view_name": "LayoutView",
            "align_content": null,
            "align_items": null,
            "align_self": null,
            "border": null,
            "bottom": null,
            "display": null,
            "flex": null,
            "flex_flow": null,
            "grid_area": null,
            "grid_auto_columns": null,
            "grid_auto_flow": null,
            "grid_auto_rows": null,
            "grid_column": null,
            "grid_gap": null,
            "grid_row": null,
            "grid_template_areas": null,
            "grid_template_columns": null,
            "grid_template_rows": null,
            "height": null,
            "justify_content": null,
            "justify_items": null,
            "left": null,
            "margin": null,
            "max_height": null,
            "max_width": null,
            "min_height": null,
            "min_width": null,
            "object_fit": null,
            "object_position": null,
            "order": null,
            "overflow": null,
            "overflow_x": null,
            "overflow_y": null,
            "padding": null,
            "right": null,
            "top": null,
            "visibility": null,
            "width": null
          }
        },
        "c6ea8efa68254df49f1ff9d36324ea70": {
          "model_module": "@jupyter-widgets/controls",
          "model_name": "DescriptionStyleModel",
          "model_module_version": "1.5.0",
          "state": {
            "_model_module": "@jupyter-widgets/controls",
            "_model_module_version": "1.5.0",
            "_model_name": "DescriptionStyleModel",
            "_view_count": null,
            "_view_module": "@jupyter-widgets/base",
            "_view_module_version": "1.2.0",
            "_view_name": "StyleView",
            "description_width": ""
          }
        }
      }
    }
  },
  "cells": [
    {
      "cell_type": "markdown",
      "source": [
        "#**PENDAHULUAN**"
      ],
      "metadata": {
        "id": "XrBe4-zQcQcP"
      }
    },
    {
      "cell_type": "markdown",
      "source": [
        "Pra-pemrosesan teks adalah tahap penting dalam analisis teks dan Natural Language Processing (NLP). Tujuannya adalah untuk membersihkan dan mempersiapkan teks mentah agar dapat diolah lebih lanjut dengan algoritma pemrosesan teks atau analisis.\n",
        "\n",
        "Berikut adalah beberapa langkah umum (tapi tidak terbatas pada hal di bawah) dalam pra-pemrosesan teks dalam NLP:\n",
        "\n",
        "**1. Case Folding**\n",
        "\n",
        "**2. Removal Special Characters**\n",
        "- Menghapus Angka\n",
        "- Menghapus Tanda Baca\n",
        "- Menghapus White Space\n",
        "  - Menggunakan strip() untuk Menghapus Whitespace di Awal dan Akhir\n",
        "  - Menggunakan replace() untuk Menghapus Whitespace di Seluruh String\n",
        "\n",
        "**3. Stopword Removal (Filtering)**\n",
        "-  Stopwords NLTK (Natural Language Toolkit)\n",
        "- Stopwords Sastrawi\n",
        "\n",
        "**4. Tokenizing**\n",
        "- Tokenisasi Kata (Word Tokenization)\n",
        "- Tokenisasi Kalimat (Sentence Tokenization)\n",
        "- Tokenisasi Frasa (Phrase Tokenization)\n",
        "- Tokenisasi Berdasarkan Aturan (Rule-based Tokenization)\n",
        "- Tokenisasi Berdasarkan Model (Model-based Tokenization)\n",
        "\n",
        "**5. Stemming**\n",
        "\n",
        "**6. Lemmatization**"
      ],
      "metadata": {
        "id": "XQn5YpULcPTZ"
      }
    },
    {
      "cell_type": "markdown",
      "source": [
        "#**Install Library**"
      ],
      "metadata": {
        "id": "_Kybbnt7d8cp"
      }
    },
    {
      "cell_type": "code",
      "source": [
        "!pip install Sastrawi"
      ],
      "metadata": {
        "colab": {
          "base_uri": "https://localhost:8080/"
        },
        "id": "nmHc8C8hqYg0",
        "outputId": "e14beca0-06b0-4b31-c287-9210c232965d"
      },
      "execution_count": null,
      "outputs": [
        {
          "output_type": "stream",
          "name": "stdout",
          "text": [
            "Collecting Sastrawi\n",
            "  Downloading Sastrawi-1.0.1-py2.py3-none-any.whl (209 kB)\n",
            "\u001b[?25l     \u001b[90m━━━━━━━━━━━━━━━━━━━━━━━━━━━━━━━━━━━━━━━━\u001b[0m \u001b[32m0.0/209.7 kB\u001b[0m \u001b[31m?\u001b[0m eta \u001b[36m-:--:--\u001b[0m\r\u001b[2K     \u001b[91m━━━━━━━━━━━━━━━━━━━━━━━━━\u001b[0m\u001b[90m╺\u001b[0m\u001b[90m━━━━━━━━━━━━━━\u001b[0m \u001b[32m133.1/209.7 kB\u001b[0m \u001b[31m3.8 MB/s\u001b[0m eta \u001b[36m0:00:01\u001b[0m\r\u001b[2K     \u001b[90m━━━━━━━━━━━━━━━━━━━━━━━━━━━━━━━━━━━━━━━━\u001b[0m \u001b[32m209.7/209.7 kB\u001b[0m \u001b[31m3.4 MB/s\u001b[0m eta \u001b[36m0:00:00\u001b[0m\n",
            "\u001b[?25hInstalling collected packages: Sastrawi\n",
            "Successfully installed Sastrawi-1.0.1\n"
          ]
        }
      ]
    },
    {
      "cell_type": "markdown",
      "source": [
        "#**Case Folding**"
      ],
      "metadata": {
        "id": "uskJqHsBeBiT"
      }
    },
    {
      "cell_type": "markdown",
      "source": [
        "Case folding adalah proses standarisasi teks dengan mengubah semua huruf dalam teks menjadi huruf kecil. Tujuan utamanya adalah untuk menciptakan konsistensi dalam representasi teks, sehingga mempermudah dalam analisis teks selanjutnya.\n",
        "\n",
        "Dengan melakukan case folding, perbedaan huruf besar dan kecil dalam teks diabaikan, sehingga memungkinkan perbandingan dan pencarian teks menjadi lebih mudah dan efisien."
      ],
      "metadata": {
        "id": "g2I7Xa59eXXm"
      }
    },
    {
      "cell_type": "code",
      "execution_count": null,
      "metadata": {
        "id": "t9NL5s8t2oGD",
        "colab": {
          "base_uri": "https://localhost:8080/"
        },
        "outputId": "cbbb09b8-ffdf-4208-e366-6718cb44152d"
      },
      "outputs": [
        {
          "output_type": "stream",
          "name": "stdout",
          "text": [
            "Teks asli: Ini Adalah Contoh Teks yang Akan Dikonversi Menjadi Lowercase.\n",
            "Teks setelah diubah menjadi lowercase: ini adalah contoh teks yang akan dikonversi menjadi lowercase.\n"
          ]
        }
      ],
      "source": [
        "# Contoh teks\n",
        "teks_asli = \"Ini Adalah Contoh Teks yang Akan Dikonversi Menjadi Lowercase.\"\n",
        "\n",
        "# Mengubah teks menjadi lowercase\n",
        "teks_lowercase = teks_asli.lower()\n",
        "\n",
        "# Menampilkan hasil\n",
        "print(\"Teks asli:\", teks_asli)\n",
        "print(\"Teks setelah diubah menjadi lowercase:\", teks_lowercase)"
      ]
    },
    {
      "cell_type": "code",
      "source": [
        "# Contoh teks dengan campuran huruf besar dan kecil\n",
        "teks_asli = \"\"\"\n",
        "Ini adalah contoh teks dengan campuran huruf besar dan kecil.\n",
        "Contoh ini digunakan untuk demonstrasi case folding dalam pra-pemrosesan teks.\n",
        "Dengan menggunakan case folding, semua huruf dalam teks akan diubah menjadi huruf kecil.\n",
        "Ini membantu dalam memastikan konsistensi dalam analisis teks.\n",
        "\"\"\"\n",
        "\n",
        "# Mengubah teks menjadi lowercase menggunakan case folding\n",
        "teks_case_folded = teks_asli.lower()\n",
        "\n",
        "# Menampilkan hasil\n",
        "print(\"Teks asli:\")\n",
        "print(teks_asli)\n",
        "print(\"Teks setelah case folding:\")\n",
        "print(teks_case_folded)"
      ],
      "metadata": {
        "colab": {
          "base_uri": "https://localhost:8080/"
        },
        "id": "WEr-My4ReQO2",
        "outputId": "0e8c5d97-ff59-4e85-d70c-fa5f3b64f5cb"
      },
      "execution_count": null,
      "outputs": [
        {
          "output_type": "stream",
          "name": "stdout",
          "text": [
            "Teks asli:\n",
            "\n",
            "Ini adalah contoh teks dengan campuran huruf besar dan kecil. \n",
            "Contoh ini digunakan untuk demonstrasi case folding dalam pra-pemrosesan teks. \n",
            "Dengan menggunakan case folding, semua huruf dalam teks akan diubah menjadi huruf kecil.\n",
            "Ini membantu dalam memastikan konsistensi dalam analisis teks.\n",
            "\n",
            "Teks setelah case folding:\n",
            "\n",
            "ini adalah contoh teks dengan campuran huruf besar dan kecil. \n",
            "contoh ini digunakan untuk demonstrasi case folding dalam pra-pemrosesan teks. \n",
            "dengan menggunakan case folding, semua huruf dalam teks akan diubah menjadi huruf kecil.\n",
            "ini membantu dalam memastikan konsistensi dalam analisis teks.\n",
            "\n"
          ]
        }
      ]
    },
    {
      "cell_type": "markdown",
      "source": [
        "# **Removal Special Characters**"
      ],
      "metadata": {
        "id": "kQ1JxyzNekAh"
      }
    },
    {
      "cell_type": "markdown",
      "source": [
        "## **Menghapus Angka**"
      ],
      "metadata": {
        "id": "E3jBFpomeuKM"
      }
    },
    {
      "cell_type": "code",
      "source": [
        "# Fungsi untuk menghapus angka dari teks\n",
        "def hapus_angka(teks):\n",
        "    teks_tanpa_angka = ''.join([char for char in teks if not char.isdigit()])\n",
        "    return teks_tanpa_angka\n",
        "\n",
        "# Contoh teks dengan angka\n",
        "teks_dengan_angka = \"Ini adalah contoh teks dengan angka 12345 yang akan dihapus.\"\n",
        "\n",
        "# Memanggil fungsi untuk menghapus angka\n",
        "teks_tanpa_angka = hapus_angka(teks_dengan_angka)\n",
        "\n",
        "# Menampilkan hasil\n",
        "print(\"Teks dengan angka:\", teks_dengan_angka)\n",
        "print(\"Teks tanpa angka:\", teks_tanpa_angka)"
      ],
      "metadata": {
        "colab": {
          "base_uri": "https://localhost:8080/"
        },
        "id": "92-D_tg_e-S9",
        "outputId": "bbbfae23-0caa-4d5a-b217-767811ac5f86"
      },
      "execution_count": null,
      "outputs": [
        {
          "output_type": "stream",
          "name": "stdout",
          "text": [
            "Teks dengan angka: Ini adalah contoh teks dengan angka 12345 yang akan dihapus.\n",
            "Teks tanpa angka: Ini adalah contoh teks dengan angka  yang akan dihapus.\n"
          ]
        }
      ]
    },
    {
      "cell_type": "code",
      "source": [
        "import re\n",
        "\n",
        "def remove_numbers(text):\n",
        "    # Menggunakan regular expression untuk menghapus angka\n",
        "    text_without_numbers = re.sub(r'\\d+', '', text)\n",
        "    return text_without_numbers\n",
        "\n",
        "# Contoh teks dengan angka\n",
        "teks_asli = \"Ini adalah contoh teks dengan angka 123 dan 456.\"\n",
        "\n",
        "# Menghapus angka dari teks\n",
        "teks_tanpa_angka = remove_numbers(teks_asli)\n",
        "\n",
        "# Menampilkan hasil\n",
        "print(\"Teks asli:\", teks_asli)\n",
        "print(\"Teks setelah menghapus angka:\", teks_tanpa_angka)"
      ],
      "metadata": {
        "colab": {
          "base_uri": "https://localhost:8080/"
        },
        "id": "bnp_opHmfOFk",
        "outputId": "a4b6f59f-5347-4485-9dee-a8e57a773b47"
      },
      "execution_count": null,
      "outputs": [
        {
          "output_type": "stream",
          "name": "stdout",
          "text": [
            "Teks asli: Ini adalah contoh teks dengan angka 123 dan 456.\n",
            "Teks setelah menghapus angka: Ini adalah contoh teks dengan angka  dan .\n"
          ]
        }
      ]
    },
    {
      "cell_type": "code",
      "source": [
        "import re\n",
        "\n",
        "def hapus_angka_tidak_relevan(teks):\n",
        "    # Menggunakan regex untuk mengidentifikasi dan menghapus angka yang tidak relevan\n",
        "    # Pola untuk mengenali angka yang harus dihapus, termasuk nomor rumah dan nomor telepon\n",
        "    pola_angka_tidak_relevan = r\"\\b(?:\\d{1,3}[-\\.\\s]?)?(?:\\d{3}[-\\.\\s]?)?\\d{4,}\\b\"\n",
        "    hasil = re.sub(pola_angka_tidak_relevan, \"\", teks)\n",
        "    return hasil.strip()\n",
        "\n",
        "# Contoh kalimat dengan angka\n",
        "kalimat = \"Di sini ada beberapa nomor rumah yaitu  123, 456, dan 789. Silakan hubungi 081234567890 untuk informasi lebih lanjut.\"\n",
        "\n",
        "# Memanggil fungsi untuk menghapus angka tidak relevan\n",
        "hasil_tanpa_angka = hapus_angka_tidak_relevan(kalimat)\n",
        "\n",
        "# Menampilkan hasil\n",
        "print(\"Kalimat dengan angka:\", kalimat)\n",
        "print(\"Kalimat tanpa angka tidak relevan:\", hasil_tanpa_angka)"
      ],
      "metadata": {
        "colab": {
          "base_uri": "https://localhost:8080/"
        },
        "id": "1cct_lEvxt4k",
        "outputId": "8de8c0a0-80b3-42d9-c421-ec0efe79f00c"
      },
      "execution_count": null,
      "outputs": [
        {
          "output_type": "stream",
          "name": "stdout",
          "text": [
            "Kalimat dengan angka: Di sini ada beberapa nomor rumah yaitu  123, 456, dan 789. Silakan hubungi 081234567890 untuk informasi lebih lanjut.\n",
            "Kalimat tanpa angka tidak relevan: Di sini ada beberapa nomor rumah yaitu  123, 456, dan 789. Silakan hubungi  untuk informasi lebih lanjut.\n"
          ]
        }
      ]
    },
    {
      "cell_type": "markdown",
      "source": [
        "## **Menghapus Tanda Baca**"
      ],
      "metadata": {
        "id": "8BLio726eydu"
      }
    },
    {
      "cell_type": "code",
      "source": [
        "import string\n",
        "\n",
        "def remove_punctuation(text):\n",
        "    # Membuat set yang berisi semua tanda baca\n",
        "    punctuation_set = set(string.punctuation)\n",
        "\n",
        "    # Menghapus tanda baca dari teks\n",
        "    text_without_punctuation = ''.join(char for char in text if char not in punctuation_set)\n",
        "\n",
        "    return text_without_punctuation\n",
        "\n",
        "# Contoh teks dengan tanda baca\n",
        "teks_asli = \"Ini adalah contoh teks, dengan tanda baca! Contoh ini, digunakan? untuk demonstrasi.\"\n",
        "\n",
        "# Menghapus tanda baca dari teks\n",
        "teks_tanpa_tanda_baca = remove_punctuation(teks_asli)\n",
        "\n",
        "# Menampilkan hasil\n",
        "print(\"Teks asli:\", teks_asli)\n",
        "print(\"Teks setelah menghapus tanda baca:\", teks_tanpa_tanda_baca)"
      ],
      "metadata": {
        "colab": {
          "base_uri": "https://localhost:8080/"
        },
        "id": "Ib2zypnWfbFu",
        "outputId": "5e510737-f650-40d6-b66c-2f5d5122193c"
      },
      "execution_count": null,
      "outputs": [
        {
          "output_type": "stream",
          "name": "stdout",
          "text": [
            "Teks asli: Ini adalah contoh teks, dengan tanda baca! Contoh ini, digunakan? untuk demonstrasi.\n",
            "Teks setelah menghapus tanda baca: Ini adalah contoh teks dengan tanda baca Contoh ini digunakan untuk demonstrasi\n"
          ]
        }
      ]
    },
    {
      "cell_type": "code",
      "source": [
        "import string\n",
        "\n",
        "def remove_punctuation(text):\n",
        "    # Membuat set yang berisi semua tanda baca\n",
        "    punctuation_set = set(string.punctuation)\n",
        "\n",
        "    # Menghapus tanda baca dari teks\n",
        "    text_without_punctuation = ''.join(char for char in text if char not in punctuation_set)\n",
        "\n",
        "    return text_without_punctuation\n",
        "\n",
        "# Contoh teks dengan banyak tanda baca\n",
        "teks_asli = \"\"\"\n",
        "Dalam dunia ini, banyak hal terjadi, dari yang kecil hingga yang besar. Kita bisa melihat keindahan, tapi juga kekejaman. Ada harapan, namun juga keputusasaan. Bagaimanapun, hidup terus berjalan, tak peduli apa pun yang terjadi!\n",
        "\"\"\"\n",
        "\n",
        "# Menghapus tanda baca dari teks\n",
        "teks_tanpa_tanda_baca = remove_punctuation(teks_asli)\n",
        "\n",
        "# Menampilkan hasil\n",
        "print(\"Teks asli:\")\n",
        "print(teks_asli)\n",
        "print(\"\\nTeks setelah menghapus tanda baca:\")\n",
        "print(teks_tanpa_tanda_baca)"
      ],
      "metadata": {
        "colab": {
          "base_uri": "https://localhost:8080/"
        },
        "id": "1B22WdAOftoi",
        "outputId": "6c246b91-1ff0-4111-8ac6-a46516536dd9"
      },
      "execution_count": null,
      "outputs": [
        {
          "output_type": "stream",
          "name": "stdout",
          "text": [
            "Teks asli:\n",
            "\n",
            "Dalam dunia ini, banyak hal terjadi, dari yang kecil hingga yang besar. Kita bisa melihat keindahan, tapi juga kekejaman. Ada harapan, namun juga keputusasaan. Bagaimanapun, hidup terus berjalan, tak peduli apa pun yang terjadi!\n",
            "\n",
            "\n",
            "Teks setelah menghapus tanda baca:\n",
            "\n",
            "Dalam dunia ini banyak hal terjadi dari yang kecil hingga yang besar Kita bisa melihat keindahan tapi juga kekejaman Ada harapan namun juga keputusasaan Bagaimanapun hidup terus berjalan tak peduli apa pun yang terjadi\n",
            "\n"
          ]
        }
      ]
    },
    {
      "cell_type": "code",
      "source": [
        "import string\n",
        "\n",
        "def hapus_tanda_baca(teks):\n",
        "    teks_tanpa_tanda_baca = teks.translate(str.maketrans('', '', string.punctuation))\n",
        "    return teks_tanpa_tanda_baca\n",
        "\n",
        "# Contoh kalimat dengan banyak tanda baca\n",
        "kalimat = \"Hari ini cuaca sangat cerah! Angin bertiup kencang, dan ada beberapa awan di langit. Bagaimana dengan cuaca besok?\"\n",
        "\n",
        "# Memanggil fungsi untuk menghapus tanda baca\n",
        "hasil_tanpa_tanda_baca = hapus_tanda_baca(kalimat)\n",
        "\n",
        "# Menampilkan hasil\n",
        "print(\"Kalimat dengan tanda baca:\", kalimat)\n",
        "print(\"Kalimat tanpa tanda baca:\", hasil_tanpa_tanda_baca)"
      ],
      "metadata": {
        "colab": {
          "base_uri": "https://localhost:8080/"
        },
        "id": "-oDVQ0Kd0E7f",
        "outputId": "0dcec090-29ca-4eeb-b602-08292d63796d"
      },
      "execution_count": null,
      "outputs": [
        {
          "output_type": "stream",
          "name": "stdout",
          "text": [
            "Kalimat dengan tanda baca: Hari ini cuaca sangat cerah! Angin bertiup kencang, dan ada beberapa awan di langit. Bagaimana dengan cuaca besok?\n",
            "Kalimat tanpa tanda baca: Hari ini cuaca sangat cerah Angin bertiup kencang dan ada beberapa awan di langit Bagaimana dengan cuaca besok\n"
          ]
        }
      ]
    },
    {
      "cell_type": "markdown",
      "source": [
        "## **Menghapus White Space**"
      ],
      "metadata": {
        "id": "s8aFRK0Ne3FD"
      }
    },
    {
      "cell_type": "markdown",
      "source": [
        "### **Menggunakan strip() untuk Menghapus Whitespace di Awal dan Akhir**"
      ],
      "metadata": {
        "id": "L9mDlx3Df5lf"
      }
    },
    {
      "cell_type": "code",
      "source": [
        "teks = \"   Ini adalah contoh kalimat dengan spasi di awal dan akhir.    \"\n",
        "teks_setelah_strip = teks.strip()\n",
        "print(teks_setelah_strip)"
      ],
      "metadata": {
        "colab": {
          "base_uri": "https://localhost:8080/"
        },
        "id": "w14-k79r2XYI",
        "outputId": "145518ff-0bb8-4627-dc48-065eed867446"
      },
      "execution_count": null,
      "outputs": [
        {
          "output_type": "stream",
          "name": "stdout",
          "text": [
            "Ini adalah contoh kalimat dengan spasi di awal dan akhir.\n"
          ]
        }
      ]
    },
    {
      "cell_type": "markdown",
      "source": [
        "### **Menggunakan replace() untuk Menghapus Whitespace di Seluruh String**"
      ],
      "metadata": {
        "id": "mdMRpWpRf7m1"
      }
    },
    {
      "cell_type": "code",
      "source": [
        "teks_dengan_whitespace = \"Ini adalah    contoh kalimat    dengan spasi    di dalamnya.\"\n",
        "teks_tanpa_whitespace = teks_dengan_whitespace.replace(\" \", \"\")\n",
        "print(teks_tanpa_whitespace)"
      ],
      "metadata": {
        "colab": {
          "base_uri": "https://localhost:8080/"
        },
        "id": "750Emtyh4TVY",
        "outputId": "f47f7434-532b-4d3e-b67b-176e53224a52"
      },
      "execution_count": null,
      "outputs": [
        {
          "output_type": "stream",
          "name": "stdout",
          "text": [
            "Iniadalahcontohkalimatdenganspasididalamnya.\n"
          ]
        }
      ]
    },
    {
      "cell_type": "markdown",
      "source": [
        "# **Stopword Removal (Filtering)**\n"
      ],
      "metadata": {
        "id": "OypEpbFBgFWp"
      }
    },
    {
      "cell_type": "markdown",
      "source": [
        "### **Stopwords NLTK (Natural Language Toolkit)**"
      ],
      "metadata": {
        "id": "mxwH4vZngJpP"
      }
    },
    {
      "cell_type": "code",
      "source": [
        "import nltk\n",
        "from nltk.corpus import stopwords\n",
        "from nltk.tokenize import word_tokenize\n",
        "\n",
        "# Download corpus stopwords bahasa Indonesia dari NLTK jika belum terunduh\n",
        "nltk.download('stopwords')\n",
        "nltk.download('punkt')  # Untuk tokenisasi kata\n",
        "\n",
        "teks = \"Perekonomian Indonesia sedang dalam pertumbuhan yang membanggakan.\"\n",
        "\n",
        "# Tokenisasi teks menjadi kata-kata\n",
        "tokens_kata = word_tokenize(teks)\n",
        "\n",
        "# Ambil daftar stopwords bahasa Indonesia dari NLTK\n",
        "stopwords_indonesia = set(stopwords.words('indonesian'))\n",
        "\n",
        "# Filtering kata-kata dengan menghapus stopwords\n",
        "kata_penting = [kata for kata in tokens_kata if kata.lower() not in stopwords_indonesia]\n",
        "\n",
        "# Gabungkan kata-kata penting kembali menjadi teks\n",
        "teks_tanpa_stopwords = ' '.join(kata_penting)\n",
        "\n",
        "print(\"Teks asli:\", teks)\n",
        "print(\"Teks setelah filtering stopwords NLTK:\", teks_tanpa_stopwords)"
      ],
      "metadata": {
        "id": "fu0oETv-BUEt",
        "colab": {
          "base_uri": "https://localhost:8080/"
        },
        "outputId": "819586e1-1118-4c31-966f-bde1ddd59d53"
      },
      "execution_count": null,
      "outputs": [
        {
          "output_type": "stream",
          "name": "stdout",
          "text": [
            "Teks asli: Perekonomian Indonesia sedang dalam pertumbuhan yang membanggakan.\n",
            "Teks setelah filtering stopwords NLTK: Perekonomian Indonesia pertumbuhan membanggakan .\n"
          ]
        },
        {
          "output_type": "stream",
          "name": "stderr",
          "text": [
            "[nltk_data] Downloading package stopwords to /root/nltk_data...\n",
            "[nltk_data]   Unzipping corpora/stopwords.zip.\n",
            "[nltk_data] Downloading package punkt to /root/nltk_data...\n",
            "[nltk_data]   Package punkt is already up-to-date!\n"
          ]
        }
      ]
    },
    {
      "cell_type": "code",
      "source": [
        "import nltk\n",
        "nltk.download('punkt')\n",
        "\n",
        "from nltk.tokenize import word_tokenize\n",
        "\n",
        "teks = \"Ini adalah contoh tokenisasi kata dalam pemrosesan teks.\"\n",
        "tokens_kata = word_tokenize(teks)\n",
        "\n",
        "print(\"Teks asli:\", teks)\n",
        "print(\"Tokenisasi kata:\", tokens_kata)"
      ],
      "metadata": {
        "colab": {
          "base_uri": "https://localhost:8080/"
        },
        "id": "WC2Bhm_F6x-C",
        "outputId": "f2b7633e-fc30-41ac-9b63-c04c3346844d"
      },
      "execution_count": null,
      "outputs": [
        {
          "output_type": "stream",
          "name": "stderr",
          "text": [
            "[nltk_data] Downloading package punkt to /root/nltk_data...\n",
            "[nltk_data]   Unzipping tokenizers/punkt.zip.\n"
          ]
        },
        {
          "output_type": "stream",
          "name": "stdout",
          "text": [
            "Teks asli: Ini adalah contoh tokenisasi kata dalam pemrosesan teks.\n",
            "Tokenisasi kata: ['Ini', 'adalah', 'contoh', 'tokenisasi', 'kata', 'dalam', 'pemrosesan', 'teks', '.']\n"
          ]
        }
      ]
    },
    {
      "cell_type": "code",
      "source": [
        "from transformers import BertTokenizer\n",
        "\n",
        "teks = \"Halo! Apa kabar? Saya sedang belajar tokenisasi berbasis model.\"\n",
        "tokenizer_model = BertTokenizer.from_pretrained('bert-base-uncased')\n",
        "\n",
        "tokens_model = tokenizer_model.tokenize(teks)\n",
        "\n",
        "print(\"Teks asli:\", teks)\n",
        "print(\"Tokenisasi berdasarkan model (BertTokenizer):\", tokens_model)"
      ],
      "metadata": {
        "colab": {
          "base_uri": "https://localhost:8080/",
          "height": 284,
          "referenced_widgets": [
            "c191920da6094f4cb928c13058245428",
            "d18c9444ad8f4a84921cf831727ce934",
            "0003ee5167b343d8b176b92ab49b2956",
            "e781767a33734e1395ef29ccc8b5ca3b",
            "c9ff4b395e1649249225d0430e8e11f4",
            "57d73cc9d3494272a703877f94007d7f",
            "81363c2160fa4f60b93caf758a795b10",
            "3c177488a61f485895725a838b37ff48",
            "33b1f6d38b9b45a6b1b8dac98d1a0f44",
            "49ebbaa895c64669970d8fa16c85884c",
            "a97dcedbfacc4cd8876ee4c05c2d5533",
            "70d2ac3542c1444d8fec2cc97ca581fa",
            "b787523fd4094eeab36c26a0e4ec2ef2",
            "efd46e2ec96843cfb5a5984ce3cbfe8b",
            "de850c31e444490d88b10698ecc28ecd",
            "570213eac6234a72a1bc69f24d4e10a0",
            "54c2f1dd77924e229af338e40fda2f97",
            "d8c50c92a74848969e6169d9768653f3",
            "82283e430cc34000b8cbd06ac4391c91",
            "e91ceefd3da74d489b4f3090d2b7ba3d",
            "a24428da6698456eb7b76f1a40e1aa5a",
            "9ec4c66a08304c68883719f06ffb71e9",
            "60be0cfbd7094b7e9487ed47c3451cf2",
            "da02f51627d14f6c8a46cae7c97c452c",
            "a3ad3d0c53a241248cd1b41931a46835",
            "14f977fa752c4764903b93481d51d39b",
            "2bbb7769961c49e0bfd5cf9a08d731a9",
            "c337b4019cb5491d8d5ebd168d6740d1",
            "232fd564ce8f4d9a9e7715c1df33565d",
            "9f8935303a834ff48b184ec1f3a3313e",
            "167036fff0e4461d808d704cf46a93e7",
            "9fea8815eea443d6a85a5cf8dbec9ca8",
            "c81bfe90d25e45b4965aa17a888af04d",
            "5cc0d858f41b496c9b6f0af76861af7c",
            "99b6089d236049c689d637fff19fcd5e",
            "b97091dcced548ac97e06f1452cd522f",
            "f79e3c0410e4472183f3d36a1f45aaff",
            "206baf31131142fcb1aa62a1d8f7384e",
            "9ac95ce632444a67accd54b9569c23a2",
            "57de92882c8843b2a875b9df68ec1513",
            "a896634e9e2047ff9d67385ac1dec87e",
            "a8f5189a94844e82bdcca8a2ada600ec",
            "101359f209b14d45aa711698963df927",
            "c6ea8efa68254df49f1ff9d36324ea70"
          ]
        },
        "id": "S8z6P_iO9WbD",
        "outputId": "ee8490bc-60bb-420c-a239-ad317d1c9036"
      },
      "execution_count": null,
      "outputs": [
        {
          "output_type": "stream",
          "name": "stderr",
          "text": [
            "/usr/local/lib/python3.10/dist-packages/huggingface_hub/utils/_token.py:88: UserWarning: \n",
            "The secret `HF_TOKEN` does not exist in your Colab secrets.\n",
            "To authenticate with the Hugging Face Hub, create a token in your settings tab (https://huggingface.co/settings/tokens), set it as secret in your Google Colab and restart your session.\n",
            "You will be able to reuse this secret in all of your notebooks.\n",
            "Please note that authentication is recommended but still optional to access public models or datasets.\n",
            "  warnings.warn(\n"
          ]
        },
        {
          "output_type": "display_data",
          "data": {
            "text/plain": [
              "tokenizer_config.json:   0%|          | 0.00/48.0 [00:00<?, ?B/s]"
            ],
            "application/vnd.jupyter.widget-view+json": {
              "version_major": 2,
              "version_minor": 0,
              "model_id": "c191920da6094f4cb928c13058245428"
            }
          },
          "metadata": {}
        },
        {
          "output_type": "display_data",
          "data": {
            "text/plain": [
              "vocab.txt:   0%|          | 0.00/232k [00:00<?, ?B/s]"
            ],
            "application/vnd.jupyter.widget-view+json": {
              "version_major": 2,
              "version_minor": 0,
              "model_id": "70d2ac3542c1444d8fec2cc97ca581fa"
            }
          },
          "metadata": {}
        },
        {
          "output_type": "display_data",
          "data": {
            "text/plain": [
              "tokenizer.json:   0%|          | 0.00/466k [00:00<?, ?B/s]"
            ],
            "application/vnd.jupyter.widget-view+json": {
              "version_major": 2,
              "version_minor": 0,
              "model_id": "60be0cfbd7094b7e9487ed47c3451cf2"
            }
          },
          "metadata": {}
        },
        {
          "output_type": "display_data",
          "data": {
            "text/plain": [
              "config.json:   0%|          | 0.00/570 [00:00<?, ?B/s]"
            ],
            "application/vnd.jupyter.widget-view+json": {
              "version_major": 2,
              "version_minor": 0,
              "model_id": "5cc0d858f41b496c9b6f0af76861af7c"
            }
          },
          "metadata": {}
        },
        {
          "output_type": "stream",
          "name": "stdout",
          "text": [
            "Teks asli: Halo! Apa kabar? Saya sedang belajar tokenisasi berbasis model.\n",
            "Tokenisasi berdasarkan model (BertTokenizer): ['halo', '!', 'ap', '##a', 'ka', '##bar', '?', 'say', '##a', 'sedan', '##g', 'bela', '##jar', 'token', '##isa', '##si', 'be', '##rba', '##sis', 'model', '.']\n"
          ]
        }
      ]
    },
    {
      "cell_type": "code",
      "source": [
        "# Mengimpor library NLTK untuk pengelolaan teks\n",
        "import nltk\n",
        "from nltk.corpus import stopwords\n",
        "nltk.download('stopwords')\n",
        "\n",
        "def remove_stopwords(text):\n",
        "    # Mengambil daftar stopword bahasa Indonesia dari NLTK\n",
        "    stop_words_indonesian = set(stopwords.words('indonesian'))\n",
        "\n",
        "    # Memisahkan teks menjadi kata-kata\n",
        "    words = text.split()\n",
        "\n",
        "    # Menghapus stopword dari teks\n",
        "    filtered_words = [word for word in words if word.lower() not in stop_words_indonesian]\n",
        "\n",
        "    # Menggabungkan kata-kata yang sudah difilter kembali menjadi kalimat\n",
        "    filtered_text = ' '.join(filtered_words)\n",
        "\n",
        "    return filtered_text\n",
        "\n",
        "# Kalimat panjang sebelum penghapusan stopword\n",
        "kalimat_panjang = \"Pengembangan kecerdasan buatan (artificial intelligence atau AI) telah menjadi fokus utama dalam dunia teknologi. Teknologi AI memungkinkan komputer untuk belajar dari data, menemukan pola-pola kompleks, dan membuat keputusan seperti manusia. Penggunaan AI yang luas terlihat dalam berbagai bidang seperti pengolahan bahasa alami (NLP), pengenalan wajah, mobil otonom, analisis data, dan banyak lagi.\"\n",
        "\n",
        "# Memanggil fungsi untuk menghapus stopword pada kalimat panjang\n",
        "kalimat_panjang_filtered = remove_stopwords(kalimat_panjang)\n",
        "\n",
        "# Output teks setelah penghapusan stopword\n",
        "print(\"Kalimat panjang setelah penghapusan stopword:\", kalimat_panjang_filtered)\n"
      ],
      "metadata": {
        "colab": {
          "base_uri": "https://localhost:8080/"
        },
        "id": "esQPPnvDyfB0",
        "outputId": "b6ed65ff-970f-4e47-99b1-32125055a5c9"
      },
      "execution_count": null,
      "outputs": [
        {
          "output_type": "stream",
          "name": "stdout",
          "text": [
            "Kalimat panjang setelah penghapusan stopword: Pengembangan kecerdasan buatan (artificial intelligence AI) fokus utama dunia teknologi. Teknologi AI komputer belajar data, menemukan pola-pola kompleks, keputusan manusia. Penggunaan AI luas bidang pengolahan bahasa alami (NLP), pengenalan wajah, mobil otonom, analisis data, lagi.\n"
          ]
        },
        {
          "output_type": "stream",
          "name": "stderr",
          "text": [
            "[nltk_data] Downloading package stopwords to /root/nltk_data...\n",
            "[nltk_data]   Package stopwords is already up-to-date!\n"
          ]
        }
      ]
    },
    {
      "cell_type": "markdown",
      "source": [
        "### **Stopwords Sastrawi**"
      ],
      "metadata": {
        "id": "PTTtRhzagRlQ"
      }
    },
    {
      "cell_type": "code",
      "source": [
        "# Install Sastrawi library if not already installed\n",
        "!pip install Sastrawi\n",
        "\n",
        "from Sastrawi.StopWordRemover.StopWordRemoverFactory import StopWordRemoverFactory\n",
        "from nltk.tokenize import word_tokenize\n",
        "\n",
        "# Inisialisasi objek StopWordRemover dari Sastrawi\n",
        "factory = StopWordRemoverFactory()\n",
        "stopwords_sastrawi = factory.get_stop_words()\n",
        "\n",
        "teks = \"Perekonomian Indonesia sedang dalam pertumbuhan yang membanggakan.\"\n",
        "\n",
        "# Tokenisasi teks menjadi kata-kata\n",
        "tokens_kata = word_tokenize(teks)\n",
        "\n",
        "# Filtering kata-kata dengan menghapus stopwords Sastrawi\n",
        "kata_penting = [kata for kata in tokens_kata if kata.lower() not in stopwords_sastrawi]\n",
        "\n",
        "# Gabungkan kata-kata penting kembali menjadi teks\n",
        "teks_tanpa_stopwords = ' '.join(kata_penting)\n",
        "\n",
        "print(\"Teks asli:\", teks)\n",
        "print(\"Teks setelah filtering stopwords Sastrawi:\", teks_tanpa_stopwords)"
      ],
      "metadata": {
        "colab": {
          "base_uri": "https://localhost:8080/"
        },
        "id": "45RpXKfsUG2Z",
        "outputId": "86b556c5-a160-47c9-bda3-56c2c3de211a"
      },
      "execution_count": null,
      "outputs": [
        {
          "output_type": "stream",
          "name": "stdout",
          "text": [
            "Collecting Sastrawi\n",
            "  Downloading Sastrawi-1.0.1-py2.py3-none-any.whl (209 kB)\n",
            "\u001b[2K     \u001b[90m━━━━━━━━━━━━━━━━━━━━━━━━━━━━━━━━━━━━━━━━\u001b[0m \u001b[32m209.7/209.7 kB\u001b[0m \u001b[31m2.4 MB/s\u001b[0m eta \u001b[36m0:00:00\u001b[0m\n",
            "\u001b[?25hInstalling collected packages: Sastrawi\n",
            "Successfully installed Sastrawi-1.0.1\n",
            "Teks asli: Perekonomian Indonesia sedang dalam pertumbuhan yang membanggakan.\n",
            "Teks setelah filtering stopwords Sastrawi: Perekonomian Indonesia sedang pertumbuhan membanggakan .\n"
          ]
        }
      ]
    },
    {
      "cell_type": "markdown",
      "source": [
        "# **Tokenizing**"
      ],
      "metadata": {
        "id": "a-aj_h-PvgH9"
      }
    },
    {
      "cell_type": "markdown",
      "source": [
        "## **Tokenisasi Kata (Word Tokenization)**"
      ],
      "metadata": {
        "id": "1DRF4zfyvnwL"
      }
    },
    {
      "cell_type": "code",
      "source": [
        "from nltk.tokenize import word_tokenize\n",
        "\n",
        "text = \"Ini adalah contoh kalimat untuk tokenisasi kata.\"\n",
        "tokens = word_tokenize(text)\n",
        "print(tokens)"
      ],
      "metadata": {
        "colab": {
          "base_uri": "https://localhost:8080/"
        },
        "id": "zKz7khyz3qGz",
        "outputId": "8d9df210-eb9a-4360-ddfb-119c45e763d8"
      },
      "execution_count": null,
      "outputs": [
        {
          "output_type": "stream",
          "name": "stdout",
          "text": [
            "['Ini', 'adalah', 'contoh', 'kalimat', 'untuk', 'tokenisasi', 'kata', '.']\n"
          ]
        }
      ]
    },
    {
      "cell_type": "markdown",
      "source": [
        "## **Tokenisasi Kalimat (Sentence Tokenization)**"
      ],
      "metadata": {
        "id": "NXJ8PXY-vqnD"
      }
    },
    {
      "cell_type": "code",
      "source": [
        "from nltk.tokenize import sent_tokenize\n",
        "\n",
        "text = \"Ini adalah contoh kalimat pertama. Dan ini adalah contoh kalimat kedua.\"\n",
        "sentences = sent_tokenize(text)\n",
        "print(sentences)"
      ],
      "metadata": {
        "colab": {
          "base_uri": "https://localhost:8080/"
        },
        "id": "FtRKePJh3rd7",
        "outputId": "4d7e49eb-a0dc-4331-edd5-9a85dcebcb5e"
      },
      "execution_count": null,
      "outputs": [
        {
          "output_type": "stream",
          "name": "stdout",
          "text": [
            "['Ini adalah contoh kalimat pertama.', 'Dan ini adalah contoh kalimat kedua.']\n"
          ]
        }
      ]
    },
    {
      "cell_type": "markdown",
      "source": [
        "## **Tokenisasi Frasa (Phrase Tokenization**)"
      ],
      "metadata": {
        "id": "7tLkdLXrvtgY"
      }
    },
    {
      "cell_type": "code",
      "source": [
        "# Misalkan kita ingin memisahkan frasa berdasarkan tanda baca koma (,)\n",
        "text = \"Apel, jeruk, pisang, dan mangga.\"\n",
        "phrases = text.split(',')\n",
        "print(phrases)"
      ],
      "metadata": {
        "colab": {
          "base_uri": "https://localhost:8080/"
        },
        "id": "nmtsErNw3tQl",
        "outputId": "17163409-01a9-4e3a-f971-0e839865fa1b"
      },
      "execution_count": null,
      "outputs": [
        {
          "output_type": "stream",
          "name": "stdout",
          "text": [
            "['Apel', ' jeruk', ' pisang', ' dan mangga.']\n"
          ]
        }
      ]
    },
    {
      "cell_type": "markdown",
      "source": [
        "## **Tokenisasi Berdasarkan Aturan (Rule-based Tokenization)**"
      ],
      "metadata": {
        "id": "-gOZYMjQvwfd"
      }
    },
    {
      "cell_type": "code",
      "source": [
        "# Contoh aturan tokenisasi khusus untuk tokenisasi kata dalam bahasa Indonesia\n",
        "import re\n",
        "\n",
        "text = \"Pertama, kita perlu menyiapkan bahan-bahan yang diperlukan.\"\n",
        "tokens = re.findall(r'\\w+|\\d+', text)\n",
        "print(tokens)"
      ],
      "metadata": {
        "colab": {
          "base_uri": "https://localhost:8080/"
        },
        "id": "AMdnExjw3xFl",
        "outputId": "63e30b07-9186-490f-dd3f-bb9faee3fe85"
      },
      "execution_count": null,
      "outputs": [
        {
          "output_type": "stream",
          "name": "stdout",
          "text": [
            "['Pertama', 'kita', 'perlu', 'menyiapkan', 'bahan', 'bahan', 'yang', 'diperlukan']\n"
          ]
        }
      ]
    },
    {
      "cell_type": "markdown",
      "source": [
        "## **Tokenisasi Berdasarkan Model (Model-based Tokenization)**"
      ],
      "metadata": {
        "id": "a4Li04nuvzZM"
      }
    },
    {
      "cell_type": "code",
      "source": [
        "# Misalnya menggunakan spasi sebagai pemisah kata\n",
        "text = \"Ini adalah contoh tokenisasi berbasis model.\"\n",
        "tokens = text.split()\n",
        "print(tokens)"
      ],
      "metadata": {
        "colab": {
          "base_uri": "https://localhost:8080/"
        },
        "id": "d08bvVBY30Wa",
        "outputId": "acb7e91e-7a09-44d1-eaed-93e15f4683aa"
      },
      "execution_count": null,
      "outputs": [
        {
          "output_type": "stream",
          "name": "stdout",
          "text": [
            "['Ini', 'adalah', 'contoh', 'tokenisasi', 'berbasis', 'model.']\n"
          ]
        }
      ]
    },
    {
      "cell_type": "markdown",
      "source": [
        "# **Stemming**\n"
      ],
      "metadata": {
        "id": "4I-koEyQ35M3"
      }
    },
    {
      "cell_type": "markdown",
      "source": [
        "## **Stemming menggunakan NLTK**"
      ],
      "metadata": {
        "id": "l-q0Q2hv4Ixo"
      }
    },
    {
      "cell_type": "code",
      "source": [
        "from nltk.stem import PorterStemmer\n",
        "\n",
        "stemmer = PorterStemmer()\n",
        "words = [\"running\", \"easily\", \"bought\", \"crying\", \"leaves\"]\n",
        "\n",
        "stemmed_words = [stemmer.stem(word) for word in words]\n",
        "print(stemmed_words)"
      ],
      "metadata": {
        "colab": {
          "base_uri": "https://localhost:8080/"
        },
        "id": "BFC6ZAMW4Gvw",
        "outputId": "a2eee08c-f14a-41fd-8558-e01732ca7c9a"
      },
      "execution_count": null,
      "outputs": [
        {
          "output_type": "stream",
          "name": "stdout",
          "text": [
            "['run', 'easili', 'bought', 'cri', 'leav']\n"
          ]
        }
      ]
    },
    {
      "cell_type": "markdown",
      "source": [
        "# **Lemmatization**"
      ],
      "metadata": {
        "id": "LWwuQPtj3-VL"
      }
    },
    {
      "cell_type": "markdown",
      "source": [
        "## **Lemmatisasi menggunakan NLTK**"
      ],
      "metadata": {
        "id": "kpvn1dEj4NB6"
      }
    },
    {
      "cell_type": "code",
      "source": [
        "import nltk\n",
        "nltk.download('wordnet')\n",
        "\n",
        "from nltk.stem import WordNetLemmatizer\n",
        "from nltk.corpus import wordnet\n",
        "\n",
        "lemmatizer = WordNetLemmatizer()\n",
        "words = [\"running\", \"easily\", \"bought\", \"crying\", \"leaves\"]\n",
        "\n",
        "lemmatized_words = [lemmatizer.lemmatize(word, pos=wordnet.VERB) for word in words]\n",
        "print(lemmatized_words)\n"
      ],
      "metadata": {
        "colab": {
          "base_uri": "https://localhost:8080/"
        },
        "id": "SvNf5jQ939zW",
        "outputId": "68d4aa02-8b6e-4bb9-ba97-329b45096b17"
      },
      "execution_count": null,
      "outputs": [
        {
          "output_type": "stream",
          "name": "stderr",
          "text": [
            "[nltk_data] Downloading package wordnet to /root/nltk_data...\n"
          ]
        },
        {
          "output_type": "stream",
          "name": "stdout",
          "text": [
            "['run', 'easily', 'buy', 'cry', 'leave']\n"
          ]
        }
      ]
    },
    {
      "cell_type": "code",
      "source": [
        "from nltk.stem import PorterStemmer, WordNetLemmatizer\n",
        "from nltk.tokenize import word_tokenize\n",
        "\n",
        "# Kalimat contoh\n",
        "sentence = \"The cats are running and jumping over the fences.\"\n",
        "\n",
        "# Inisialisasi stemmer dan lemmatizer\n",
        "stemmer = PorterStemmer()\n",
        "lemmatizer = WordNetLemmatizer()\n",
        "\n",
        "# Tokenisasi kalimat\n",
        "tokens = word_tokenize(sentence)\n",
        "\n",
        "# Stemming\n",
        "stemmed_words = [stemmer.stem(word) for word in tokens]\n",
        "\n",
        "# Lemmatisasi\n",
        "lemmatized_words = [lemmatizer.lemmatize(word) for word in tokens]\n",
        "\n",
        "print(\"Original tokens:\", tokens)\n",
        "print(\"Stemmed tokens:\", stemmed_words)\n",
        "print(\"Lemmatized tokens:\", lemmatized_words)"
      ],
      "metadata": {
        "colab": {
          "base_uri": "https://localhost:8080/"
        },
        "id": "88t2hcp04eW3",
        "outputId": "26f1a717-b8e0-4bd7-c4ad-2d0756692346"
      },
      "execution_count": null,
      "outputs": [
        {
          "output_type": "stream",
          "name": "stdout",
          "text": [
            "Original tokens: ['The', 'cats', 'are', 'running', 'and', 'jumping', 'over', 'the', 'fences', '.']\n",
            "Stemmed tokens: ['the', 'cat', 'are', 'run', 'and', 'jump', 'over', 'the', 'fenc', '.']\n",
            "Lemmatized tokens: ['The', 'cat', 'are', 'running', 'and', 'jumping', 'over', 'the', 'fence', '.']\n"
          ]
        }
      ]
    }
  ]
}